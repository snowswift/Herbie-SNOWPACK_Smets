{
 "cells": [
  {
   "cell_type": "code",
   "execution_count": 9,
   "id": "431e01e0",
   "metadata": {},
   "outputs": [
    {
     "name": "stderr",
     "output_type": "stream",
     "text": [
      "/home/bran/anaconda3/lib/python3.11/site-packages/herbie/accessors.py:264: UserWarning: More than one time coordinate present for variable  \"t2m\".\n",
      "  ds = ds.metpy.assign_y_x()\n",
      "/home/bran/anaconda3/lib/python3.11/site-packages/herbie/accessors.py:264: UserWarning: More than one time coordinate present for variable  \"r2\".\n",
      "  ds = ds.metpy.assign_y_x()\n"
     ]
    },
    {
     "name": "stdout",
     "output_type": "stream",
     "text": [
      "querying data for 2 m\n"
     ]
    },
    {
     "name": "stderr",
     "output_type": "stream",
     "text": [
      "/home/bran/anaconda3/lib/python3.11/site-packages/herbie/accessors.py:264: UserWarning: More than one time coordinate present for variable  \"si10\".\n",
      "  ds = ds.metpy.assign_y_x()\n"
     ]
    },
    {
     "name": "stdout",
     "output_type": "stream",
     "text": [
      "querying data for 10 m\n",
      "querying data for surface\n",
      "<class 'list'>\n",
      "63\n",
      "63\n",
      "<class 'list'>\n",
      "63\n",
      "63\n"
     ]
    },
    {
     "name": "stderr",
     "output_type": "stream",
     "text": [
      "/home/bran/anaconda3/lib/python3.11/site-packages/herbie/accessors.py:264: UserWarning: More than one time coordinate present for variable  \"tp\".\n",
      "  ds = ds.metpy.assign_y_x()\n",
      "/home/bran/anaconda3/lib/python3.11/site-packages/herbie/accessors.py:264: UserWarning: More than one time coordinate present for variable  \"gust\".\n",
      "  ds = ds.metpy.assign_y_x()\n",
      "/home/bran/anaconda3/lib/python3.11/site-packages/herbie/accessors.py:264: UserWarning: More than one time coordinate present for variable  \"dswrf\".\n",
      "  ds = ds.metpy.assign_y_x()\n",
      "/home/bran/anaconda3/lib/python3.11/site-packages/herbie/accessors.py:264: UserWarning: More than one time coordinate present for variable  \"uswrf\".\n",
      "  ds = ds.metpy.assign_y_x()\n",
      "/home/bran/anaconda3/lib/python3.11/site-packages/herbie/accessors.py:264: UserWarning: More than one time coordinate present for variable  \"dlwrf\".\n",
      "  ds = ds.metpy.assign_y_x()\n",
      "/home/bran/anaconda3/lib/python3.11/site-packages/herbie/accessors.py:264: UserWarning: More than one time coordinate present for variable  \"ulwrf\".\n",
      "  ds = ds.metpy.assign_y_x()\n"
     ]
    }
   ],
   "source": [
    "from herbie import Herbie\n",
    "from datetime import datetime, timedelta\n",
    "import math\n",
    "from herbie import FastHerbie\n",
    "import pandas as pd\n",
    "    \n",
    "file_name = '/home/bran/SNOWPACK/input/Tioga/Tioga_test.smet'\n",
    "data_index = 1 #index is station lat/long, starts at 0\n",
    "start_time_str = '2023-10-25 00:00:00'\n",
    "ss = \":TMP:2 m|:RH:2 m|:WIND:10 m|:DSWRF:surface|:DLWRF:surface|:ULWRF:surface|USWRF:surface|:APCP:.*:(?:0-1[1-9]\\d*-\\d+) hour\"\n",
    "ss1 = \":TMP:2 m|:RH:2 m\" # 2m readings\n",
    "ss2 = \":WIND:10 m\" # 10m readings\n",
    "ss3 = \":GUST:surface|:DSWRF:surface|:DLWRF:surface|:ULWRF:surface|USWRF:surface|:APCP:surface:(?:0-1|[1-9]\\d*-\\d+)*\" # surf readings minus precip\n",
    "#ss4 = f\":APCP:surface:{i-1}-{i} h*\" #hourly precip\n",
    "ll = [(-119.02,37.64),(-119.25,37.91),(-118.73,37.45)] # lat/long order: CUES, Tioga, Rock_Creek\n",
    "maxrun = 2 # to get 48hr model: maxrun = 49\n",
    "\n",
    "DATES = pd.date_range(\n",
    "    start = start_time_str,\n",
    "    periods=1,\n",
    "    freq=\"24H\")\n",
    "\n",
    "fxx = range(0,maxrun)\n",
    "\n",
    "FH = FastHerbie(DATES, model=\"hrrr\", fxx=fxx)\n",
    "FH\n",
    "ds1 = FH.xarray(ss1, remove_grib=False)\n",
    "y1=ds1.herbie.nearest_points(points=ll)\n",
    "print('querying data for 2 m')\n",
    "y1_d = y1.to_dict()\n",
    "ds2 = FH.xarray(ss2, remove_grib=False)\n",
    "y2=ds2.herbie.nearest_points(points=ll)\n",
    "print('querying data for 10 m')\n",
    "y2_d = y2.to_dict()\n",
    "ds3 = FH.xarray(ss3, remove_grib=False)\n",
    "y3=ds3.herbie.nearest_points(points=ll)\n",
    "print('querying data for surface')\n",
    "y3_d = y3.to_dict()\n",
    "\n",
    "\n",
    "#ss4 = \":APCP:surface:(?:0-1|[1-9]\\d*-\\d+)*\" #hourly precip\n",
    "#\n",
    "#print('querying data for precip')\n",
    "#ds4 = FH.xarray(ss4, remove_grib=False)\n",
    "#y4=ds4.herbie.nearest_points(points=ll)\n",
    "#y4_d = y4.to_dict()\n",
    "\n",
    "for i in range(maxrun):\n",
    "    dt = datetime.fromisoformat(start_time_str)\n",
    "    dt_query_str = dt.strftime('%Y-%m-%d %H:%M')\n",
    "    output_timestamp = dt + timedelta(hours=i)\n",
    "    output_timestamp_str = output_timestamp.strftime('%Y-%m-%dT%H:%M')\n",
    "    hours_offset = i\n",
    "    #H = Herbie(start_time_str,model=\"hrrr\",fxx=hours_offset,save_dir=\"~/ESAC_herbiedata\")\n",
    "    #print(H.inventory(searchString=\":TMP:2 m|:RH:2 m|:WIND:10 m|:.GRD:10 m|:DSWRF:surface|:DLWRF:surface|:ULWRF:surface|USWRF:surface|:APCP:surface\"))\n",
    "    # not sure about winds\n",
    "    \n",
    "    \n",
    "    append_data(y1_d, y2_d, y3_d, output_timestamp_str)"
   ]
  },
  {
   "cell_type": "code",
   "execution_count": 8,
   "id": "185e59ff",
   "metadata": {},
   "outputs": [
    {
     "name": "stdout",
     "output_type": "stream",
     "text": [
      "done\n"
     ]
    }
   ],
   "source": [
    "def append_data(y1_d, y2_d, y3_d, output_timestamp_str):\n",
    "    t2m = y1_d['data_vars']['t2m']['data'][data_index][i]\n",
    "    r2 = y1_d['data_vars']['r2']['data'][data_index][i]\n",
    "    wind10 = y2_d['data_vars']['si10']['data'][data_index][i]\n",
    "    gust = y3_d['data_vars']['gust']['data'][data_index][i]\n",
    "    dsw = y3_d['data_vars']['dswrf']['data'][data_index][i]\n",
    "    dlw = y3_d['data_vars']['dlwrf']['data'][data_index][i]\n",
    "    ulw = y3_d['data_vars']['ulwrf']['data'][data_index][i]\n",
    "    usw = y3_d['data_vars']['uswrf']['data'][data_index][i]\n",
    "    hrprecip = y3_d['data_vars']['tp']['data'][data_index][i]\n",
    "        \n",
    "    t2m_formatted = round(t2m, 1) #2nd parameter is number of decimals\n",
    "    r2_formatted = round(r2)\n",
    "    gust_formatted = round(gust, 1)\n",
    "    wind10_formatted = round(wind10, 1)\n",
    "    dsw_formatted = round(dsw)\n",
    "    dlw_formatted = round(dlw)\n",
    "    ulw_formatted = round(ulw)\n",
    "    usw_formatted = round(usw)\n",
    "    hrprecip_formatted = round(hrprecip, 1)\n",
    "    \n",
    "    new_line_str = f\"{output_timestamp_str} {t2m_formatted} {r2_formatted} {gust_formatted} {wind10_formatted} {dsw_formatted} {dlw_formatted} {ulw_formatted} {usw_formatted} {hrprecip_formatted} 0.0\\n\"\n",
    "    with open(file_name, 'r') as f:\n",
    "        lines = f.readlines()\n",
    "        print(type(lines))\n",
    "        print(len(lines))\n",
    "        new_lines = lines\n",
    "        found= False\n",
    "        for idx, line in enumerate(lines):\n",
    "            if line[:16] == output_timestamp_str:\n",
    "                new_lines[idx] = new_line_str\n",
    "                found = True\n",
    "                break\n",
    "        if not found:\n",
    "            new_lines += [new_line_str]\n",
    "    print(len(new_lines))\n",
    "    with open(file_name, 'w') as f:\n",
    "        f.writelines(new_lines)\n",
    "        \n",
    "print(\"done\")"
   ]
  },
  {
   "cell_type": "code",
   "execution_count": 7,
   "id": "ec4bbbcd",
   "metadata": {},
   "outputs": [
    {
     "name": "stdout",
     "output_type": "stream",
     "text": [
      "    grib_message  start_byte  end_byte              range reference_time  \\\n",
      "0             77    44266461  46409933  44266461-46409933     2023-10-25   \n",
      "1             78    46409933  48791548  46409933-48791548     2023-10-25   \n",
      "2             79    48791548  49975092  48791548-49975092     2023-10-25   \n",
      "3             77    51205669  53349141  51205669-53349141     2023-10-25   \n",
      "4             78    53349141  55730756  53349141-55730756     2023-10-25   \n",
      "..           ...         ...       ...                ...            ...   \n",
      "67            78    57877213  60020685  57877213-60020685     2023-10-25   \n",
      "68            79    60020685  61218136  60020685-61218136     2023-10-25   \n",
      "69            77    55735243  58116858  55735243-58116858     2023-10-25   \n",
      "70            78    58116858  60260330  58116858-60260330     2023-10-25   \n",
      "71            79    60260330  61463785  60260330-61463785     2023-10-25   \n",
      "\n",
      "            valid_time variable              level        forecast_time  \\\n",
      "0  2023-10-25 00:00:00     UGRD  10 m above ground                  anl   \n",
      "1  2023-10-25 00:00:00     VGRD  10 m above ground                  anl   \n",
      "2  2023-10-25 00:00:00     WIND  10 m above ground     0-0 day max fcst   \n",
      "3  2023-10-25 01:00:00     UGRD  10 m above ground          1 hour fcst   \n",
      "4  2023-10-25 01:00:00     VGRD  10 m above ground          1 hour fcst   \n",
      "..                 ...      ...                ...                  ...   \n",
      "67 2023-10-25 22:00:00     VGRD  10 m above ground         22 hour fcst   \n",
      "68 2023-10-25 22:00:00     WIND  10 m above ground  21-22 hour max fcst   \n",
      "69 2023-10-25 23:00:00     UGRD  10 m above ground         23 hour fcst   \n",
      "70 2023-10-25 23:00:00     VGRD  10 m above ground         23 hour fcst   \n",
      "71 2023-10-25 23:00:00     WIND  10 m above ground  22-23 hour max fcst   \n",
      "\n",
      "                                    search_this  \\\n",
      "0                   :UGRD:10 m above ground:anl   \n",
      "1                   :VGRD:10 m above ground:anl   \n",
      "2      :WIND:10 m above ground:0-0 day max fcst   \n",
      "3           :UGRD:10 m above ground:1 hour fcst   \n",
      "4           :VGRD:10 m above ground:1 hour fcst   \n",
      "..                                          ...   \n",
      "67         :VGRD:10 m above ground:22 hour fcst   \n",
      "68  :WIND:10 m above ground:21-22 hour max fcst   \n",
      "69         :UGRD:10 m above ground:23 hour fcst   \n",
      "70         :VGRD:10 m above ground:23 hour fcst   \n",
      "71  :WIND:10 m above ground:22-23 hour max fcst   \n",
      "\n",
      "                                                 FILE  \n",
      "0   https://noaa-hrrr-bdp-pds.s3.amazonaws.com/hrr...  \n",
      "1   https://noaa-hrrr-bdp-pds.s3.amazonaws.com/hrr...  \n",
      "2   https://noaa-hrrr-bdp-pds.s3.amazonaws.com/hrr...  \n",
      "3   https://noaa-hrrr-bdp-pds.s3.amazonaws.com/hrr...  \n",
      "4   https://noaa-hrrr-bdp-pds.s3.amazonaws.com/hrr...  \n",
      "..                                                ...  \n",
      "67  https://noaa-hrrr-bdp-pds.s3.amazonaws.com/hrr...  \n",
      "68  https://noaa-hrrr-bdp-pds.s3.amazonaws.com/hrr...  \n",
      "69  https://noaa-hrrr-bdp-pds.s3.amazonaws.com/hrr...  \n",
      "70  https://noaa-hrrr-bdp-pds.s3.amazonaws.com/hrr...  \n",
      "71  https://noaa-hrrr-bdp-pds.s3.amazonaws.com/hrr...  \n",
      "\n",
      "[72 rows x 11 columns]\n"
     ]
    }
   ],
   "source": [
    "hm2 = FH.inventory(searchString=ss2)\n",
    "print(hm2)"
   ]
  },
  {
   "cell_type": "code",
   "execution_count": 7,
   "id": "8206345c",
   "metadata": {},
   "outputs": [
    {
     "name": "stdout",
     "output_type": "stream",
     "text": [
      "<xarray.Dataset>\n",
      "Dimensions:              (step: 2, y: 1059, x: 1799)\n",
      "Coordinates:\n",
      "    time                 datetime64[ns] 2023-10-25\n",
      "  * step                 (step) timedelta64[ns] 00:00:00 01:00:00\n",
      "    surface              float64 0.0\n",
      "    latitude             (y, x) float64 21.14 21.15 21.15 ... 47.86 47.85 47.84\n",
      "    longitude            (y, x) float64 237.3 237.3 237.3 ... 299.0 299.0 299.1\n",
      "    valid_time           (step) datetime64[ns] 2023-10-25 2023-10-25T01:00:00\n",
      "Dimensions without coordinates: y, x\n",
      "Data variables:\n",
      "    tp                   (step, y, x) float32 0.0 0.0 0.0 0.0 ... 0.0 0.0 0.0\n",
      "    gribfile_projection  object None\n",
      "Attributes:\n",
      "    GRIB_edition:            2\n",
      "    GRIB_centre:             kwbc\n",
      "    GRIB_centreDescription:  US National Weather Service - NCEP\n",
      "    GRIB_subCentre:          0\n",
      "    Conventions:             CF-1.7\n",
      "    institution:             US National Weather Service - NCEP\n",
      "    model:                   hrrr\n",
      "    product:                 sfc\n",
      "    description:             High-Resolution Rapid Refresh - CONUS\n",
      "    searchString:            :APCP:surface:(?:0-1|[1-9]\\d*-\\d+)*\n",
      "querying data for surface\n"
     ]
    }
   ],
   "source": [
    "from herbie import Herbie\n",
    "from datetime import datetime, timedelta\n",
    "import math\n",
    "from herbie import FastHerbie\n",
    "import pandas as pd\n",
    "    \n",
    "file_name = '/home/bran/SNOWPACK/input/Tioga/Tioga_test.smet'\n",
    "data_index = 1 #index is station lat/long, starts at 0\n",
    "start_time_str = '2023-10-25 00:00:00'\n",
    "# ss2 = \":WIND:10 m|:GUST:10 m\" # 10m readings\n",
    "ss3 = \":APCP:surface:(?:0-1|[1-9]\\d*-\\d+)*\" # surf readings minus precip\n",
    "maxrun = 2 # to get 48hr model: maxrun = 49\n",
    "\n",
    "DATES = pd.date_range(\n",
    "    start = start_time_str,\n",
    "    periods=1,\n",
    "    freq=\"24H\")\n",
    "\n",
    "fxx = range(0,maxrun)\n",
    "\n",
    "FH = FastHerbie(DATES, model=\"hrrr\", fxx=fxx)\n",
    "FH\n",
    "# ds2 = FH.xarray(ss2, remove_grib=False)\n",
    "# print(ds2)\n",
    "# print('querying data for 10 m')\n",
    "ds3 = FH.xarray(ss3, remove_grib=False)\n",
    "print(ds3)\n",
    "print('querying data for surface')\n"
   ]
  },
  {
   "cell_type": "code",
   "execution_count": null,
   "id": "4ff51514",
   "metadata": {},
   "outputs": [],
   "source": []
  }
 ],
 "metadata": {
  "kernelspec": {
   "display_name": "Python 3 (ipykernel)",
   "language": "python",
   "name": "python3"
  },
  "language_info": {
   "codemirror_mode": {
    "name": "ipython",
    "version": 3
   },
   "file_extension": ".py",
   "mimetype": "text/x-python",
   "name": "python",
   "nbconvert_exporter": "python",
   "pygments_lexer": "ipython3",
   "version": "3.11.5"
  }
 },
 "nbformat": 4,
 "nbformat_minor": 5
}
