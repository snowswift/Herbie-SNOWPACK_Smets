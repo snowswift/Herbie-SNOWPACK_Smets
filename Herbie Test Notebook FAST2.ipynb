{
 "cells": [
  {
   "cell_type": "code",
   "execution_count": 26,
   "id": "509b6b23",
   "metadata": {},
   "outputs": [
    {
     "name": "stderr",
     "output_type": "stream",
     "text": [
      "/home/bran/anaconda3/lib/python3.11/site-packages/herbie/accessors.py:264: UserWarning: More than one time coordinate present for variable  \"t2m\".\n",
      "  ds = ds.metpy.assign_y_x()\n",
      "/home/bran/anaconda3/lib/python3.11/site-packages/herbie/accessors.py:264: UserWarning: More than one time coordinate present for variable  \"r2\".\n",
      "  ds = ds.metpy.assign_y_x()\n"
     ]
    },
    {
     "name": "stdout",
     "output_type": "stream",
     "text": [
      "querying data for 2 m\n"
     ]
    },
    {
     "name": "stderr",
     "output_type": "stream",
     "text": [
      "/home/bran/anaconda3/lib/python3.11/site-packages/herbie/accessors.py:264: UserWarning: More than one time coordinate present for variable  \"u10\".\n",
      "  ds = ds.metpy.assign_y_x()\n",
      "/home/bran/anaconda3/lib/python3.11/site-packages/herbie/accessors.py:264: UserWarning: More than one time coordinate present for variable  \"v10\".\n",
      "  ds = ds.metpy.assign_y_x()\n",
      "/home/bran/anaconda3/lib/python3.11/site-packages/herbie/accessors.py:264: UserWarning: More than one time coordinate present for variable  \"si10\".\n",
      "  ds = ds.metpy.assign_y_x()\n"
     ]
    },
    {
     "name": "stdout",
     "output_type": "stream",
     "text": [
      "querying data for 10 m\n",
      "querying data for surface\n",
      "<class 'list'>\n",
      "104\n",
      "104\n",
      "<class 'list'>\n",
      "104\n",
      "104\n",
      "<class 'list'>\n",
      "104\n",
      "104\n",
      "<class 'list'>\n",
      "104\n",
      "104\n"
     ]
    },
    {
     "name": "stderr",
     "output_type": "stream",
     "text": [
      "/home/bran/anaconda3/lib/python3.11/site-packages/herbie/accessors.py:264: UserWarning: More than one time coordinate present for variable  \"dswrf\".\n",
      "  ds = ds.metpy.assign_y_x()\n",
      "/home/bran/anaconda3/lib/python3.11/site-packages/herbie/accessors.py:264: UserWarning: More than one time coordinate present for variable  \"uswrf\".\n",
      "  ds = ds.metpy.assign_y_x()\n",
      "/home/bran/anaconda3/lib/python3.11/site-packages/herbie/accessors.py:264: UserWarning: More than one time coordinate present for variable  \"dlwrf\".\n",
      "  ds = ds.metpy.assign_y_x()\n",
      "/home/bran/anaconda3/lib/python3.11/site-packages/herbie/accessors.py:264: UserWarning: More than one time coordinate present for variable  \"ulwrf\".\n",
      "  ds = ds.metpy.assign_y_x()\n"
     ]
    }
   ],
   "source": [
    "from herbie import Herbie\n",
    "from datetime import datetime, timedelta\n",
    "import math\n",
    "from herbie import FastHerbie\n",
    "import pandas as pd\n",
    "    \n",
    "file_name = '/home/bran/SNOWPACK/input/Tioga/Tioga_test.smet'\n",
    "data_index = 1 #index is station lat/long, starts at 0\n",
    "start_time_str = '2023-10-29 00:00:00'\n",
    "ss = \":TMP:2 m|:RH:2 m|:WIND:10 m|:.GRD:10 m|:DSWRF:surface|:DLWRF:surface|:ULWRF:surface|USWRF:surface|:APCP:.*:(?:0-1[1-9]\\d*-\\d+) hour\"\n",
    "ss1 = \":TMP:2 m|:RH:2 m\" # 2m readings\n",
    "ss2 = \":WIND:10 m|:.GRD:10 m\" # 10m readings\n",
    "ss3 = \":DSWRF:surface|:DLWRF:surface|:ULWRF:surface|USWRF:surface\" # surf readings minus precip\n",
    "#ss4 = f\":APCP:surface:{i-1}-{i} h*\" #hourly precip\n",
    "ll = [(-119.02,37.64),(-119.25,37.91),(-118.73,37.45)] # lat/long order: CUES, Tioga, Rock_Creek\n",
    "maxrun = 4 # to get 48hr model: maxrun = 49\n",
    "\n",
    "DATES = pd.date_range(\n",
    "    start = start_time_str,\n",
    "    periods=1,\n",
    "    freq=\"24H\")\n",
    "\n",
    "fxx = range(0,maxrun)\n",
    "\n",
    "FH = FastHerbie(DATES, model=\"hrrr\", fxx=fxx)\n",
    "FH\n",
    "ds1 = FH.xarray(ss1, remove_grib=False)\n",
    "y1=ds1.herbie.nearest_points(points=ll)\n",
    "print('querying data for 2 m')\n",
    "y1_d = y1.to_dict()\n",
    "ds2 = FH.xarray(ss2, remove_grib=False)\n",
    "y2=ds2.herbie.nearest_points(points=ll)\n",
    "print('querying data for 10 m')\n",
    "y2_d = y2.to_dict()\n",
    "ds3 = FH.xarray(ss3, remove_grib=False)\n",
    "y3=ds3.herbie.nearest_points(points=ll)\n",
    "print('querying data for surface')\n",
    "y3_d = y3.to_dict()\n",
    "\n",
    "for i in range(maxrun):\n",
    "    dt = datetime.fromisoformat(start_time_str)\n",
    "    dt_query_str = dt.strftime('%Y-%m-%d %H:%M')\n",
    "    output_timestamp = dt + timedelta(hours=i)\n",
    "    output_timestamp_str = output_timestamp.strftime('%Y-%m-%dT%H:%M')\n",
    "    hours_offset = i\n",
    "    #H = Herbie(start_time_str,model=\"hrrr\",fxx=hours_offset,save_dir=\"~/ESAC_herbiedata\")\n",
    "    #print(H.inventory(searchString=\":TMP:2 m|:RH:2 m|:WIND:10 m|:.GRD:10 m|:DSWRF:surface|:DLWRF:surface|:ULWRF:surface|USWRF:surface|:APCP:surface\"))\n",
    "    # not sure about winds\n",
    "#    ss4 = f\":APCP:surface:{i-1}-{i} h*\" #hourly precip\n",
    "#    if i < 1 :\n",
    "#        y4_d = 0.0\n",
    "#    else:\n",
    "#        print('querying data for: ', dt_query_str, hours_offset, output_timestamp_str)\n",
    "#        ds4 = FH.xarray(ss4, remove_grib=False)\n",
    "#        y4=ds4.herbie.nearest_points(points=ll)\n",
    "#        y4_d = y4.to_dict()\n",
    "    \n",
    "    append_data(y1_d, y2_d, y3_d, output_timestamp_str)"
   ]
  },
  {
   "cell_type": "code",
   "execution_count": 25,
   "id": "8a8f7779",
   "metadata": {},
   "outputs": [
    {
     "name": "stdout",
     "output_type": "stream",
     "text": [
      "done\n"
     ]
    }
   ],
   "source": [
    "def append_data(y1_d, y2_d, y3_d, output_timestamp_str):\n",
    "    t2m = y1_d['data_vars']['t2m']['data'][data_index][i]\n",
    "    r2 = y1_d['data_vars']['r2']['data'][data_index][i]\n",
    "    maxwind10 = y2_d['data_vars']['si10']['data'][data_index][i]\n",
    "    uwind10 = y2_d['data_vars']['u10']['data'][data_index][i]\n",
    "    vwind10 = y2_d['data_vars']['v10']['data'][data_index][i]\n",
    "    wind10 = math.sqrt(uwind10**2 + vwind10**2)\n",
    "    dsw = y3_d['data_vars']['dswrf']['data'][data_index][i]\n",
    "    dlw = y3_d['data_vars']['dlwrf']['data'][data_index][i]\n",
    "    ulw = y3_d['data_vars']['ulwrf']['data'][data_index][i]\n",
    "    usw = y3_d['data_vars']['uswrf']['data'][data_index][i]\n",
    "#    if y4_d == 0.0:\n",
    "#        hrprecip = 0.0\n",
    "#    else:\n",
    "#        hrprecip = y4_d['data_vars']['tp']['data'][data_index][i]\n",
    "        \n",
    "    t2m_formatted = round(t2m, 1) #2nd parameter is number of decimals\n",
    "    r2_formatted = round(r2)\n",
    "    maxwind10_formatted = round(maxwind10, 1)\n",
    "    wind10_formatted = round(wind10, 1)\n",
    "    dsw_formatted = round(dsw)\n",
    "    dlw_formatted = round(dlw)\n",
    "    ulw_formatted = round(ulw)\n",
    "    usw_formatted = round(usw)\n",
    "#    hrprecip_formatted = round(hrprecip, 1)\n",
    "    \n",
    "    new_line_str = f\"{output_timestamp_str} {t2m_formatted} {r2_formatted} {maxwind10_formatted} {wind10_formatted} {dsw_formatted} {dlw_formatted} {ulw_formatted} {usw_formatted} 0.0\\n\"\n",
    "    with open(file_name, 'r') as f:\n",
    "        lines = f.readlines()\n",
    "        print(type(lines))\n",
    "        print(len(lines))\n",
    "        new_lines = lines\n",
    "        found= False\n",
    "        for idx, line in enumerate(lines):\n",
    "            if line[:16] == output_timestamp_str:\n",
    "                new_lines[idx] = new_line_str\n",
    "                found = True\n",
    "                break\n",
    "        if not found:\n",
    "            new_lines += [new_line_str]\n",
    "    print(len(new_lines))\n",
    "    with open(file_name, 'w') as f:\n",
    "        f.writelines(new_lines)\n",
    "        \n",
    "print(\"done\")"
   ]
  },
  {
   "cell_type": "code",
   "execution_count": null,
   "id": "28edf91c",
   "metadata": {},
   "outputs": [],
   "source": []
  }
 ],
 "metadata": {
  "kernelspec": {
   "display_name": "Python 3 (ipykernel)",
   "language": "python",
   "name": "python3"
  },
  "language_info": {
   "codemirror_mode": {
    "name": "ipython",
    "version": 3
   },
   "file_extension": ".py",
   "mimetype": "text/x-python",
   "name": "python",
   "nbconvert_exporter": "python",
   "pygments_lexer": "ipython3",
   "version": "3.11.5"
  }
 },
 "nbformat": 4,
 "nbformat_minor": 5
}
