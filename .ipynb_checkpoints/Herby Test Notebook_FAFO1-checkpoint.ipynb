{
 "cells": [
  {
   "cell_type": "code",
   "execution_count": 25,
   "id": "88f7c7ba",
   "metadata": {},
   "outputs": [
    {
     "name": "stdout",
     "output_type": "stream",
     "text": [
      "✅ Found ┊ model=hrrr ┊ \u001b[3mproduct=sfc\u001b[0m ┊ \u001b[38;2;41;130;13m2023-Nov-06 00:00 UTC\u001b[92m F00\u001b[0m ┊ \u001b[38;2;255;153;0m\u001b[3mGRIB2 @ aws\u001b[0m ┊ \u001b[38;2;255;153;0m\u001b[3mIDX @ aws\u001b[0m\n"
     ]
    },
    {
     "name": "stderr",
     "output_type": "stream",
     "text": [
      "/home/bran/anaconda3/lib/python3.11/site-packages/herbie/accessors.py:260: UserWarning: More than one time coordinate present for variable  \"gribfile_projection\".\n",
      "  ds = ds.metpy.parse_cf()\n",
      "/home/bran/anaconda3/lib/python3.11/site-packages/herbie/accessors.py:264: UserWarning: More than one time coordinate present for variable  \"t2m\".\n",
      "  ds = ds.metpy.assign_y_x()\n",
      "/home/bran/anaconda3/lib/python3.11/site-packages/herbie/accessors.py:264: UserWarning: More than one time coordinate present for variable  \"r2\".\n",
      "  ds = ds.metpy.assign_y_x()\n",
      "/home/bran/anaconda3/lib/python3.11/site-packages/herbie/accessors.py:264: UserWarning: More than one time coordinate present for variable  \"gribfile_projection\".\n",
      "  ds = ds.metpy.assign_y_x()\n"
     ]
    },
    {
     "name": "stdout",
     "output_type": "stream",
     "text": [
      "querying data for:  2023-11-06 00:00 0 2023-11-06T00:00\n"
     ]
    },
    {
     "name": "stderr",
     "output_type": "stream",
     "text": [
      "/home/bran/anaconda3/lib/python3.11/site-packages/herbie/accessors.py:260: UserWarning: More than one time coordinate present for variable  \"gribfile_projection\".\n",
      "  ds = ds.metpy.parse_cf()\n",
      "/home/bran/anaconda3/lib/python3.11/site-packages/herbie/accessors.py:264: UserWarning: More than one time coordinate present for variable  \"u10\".\n",
      "  ds = ds.metpy.assign_y_x()\n",
      "/home/bran/anaconda3/lib/python3.11/site-packages/herbie/accessors.py:264: UserWarning: More than one time coordinate present for variable  \"v10\".\n",
      "  ds = ds.metpy.assign_y_x()\n",
      "/home/bran/anaconda3/lib/python3.11/site-packages/herbie/accessors.py:264: UserWarning: More than one time coordinate present for variable  \"si10\".\n",
      "  ds = ds.metpy.assign_y_x()\n",
      "/home/bran/anaconda3/lib/python3.11/site-packages/herbie/accessors.py:264: UserWarning: More than one time coordinate present for variable  \"gribfile_projection\".\n",
      "  ds = ds.metpy.assign_y_x()\n"
     ]
    },
    {
     "name": "stdout",
     "output_type": "stream",
     "text": [
      "querying data for:  2023-11-06 00:00 0 2023-11-06T00:00\n",
      "<class 'list'>\n",
      "33\n",
      "33\n"
     ]
    }
   ],
   "source": [
    "from herbie import Herbie\n",
    "from datetime import datetime, timedelta\n",
    "import math\n",
    "    \n",
    "file_name = '/home/bran/SNOWPACK/input/Tioga/Tioga_test.smet'\n",
    "data_index = 1 #index starts at 0\n",
    "start_time_str = '2023-11-06 00:00:00'\n",
    "ss = \":TMP:2 m|:RH:2 m|:WIND:10 m|:.GRD:10 m|:DSWRF:surface|:DLWRF:surface|:ULWRF:surface|USWRF:surface|:APCP:surface\"\n",
    "ss1 = \":TMP:2 m|:RH:2 m\" # 2m readings\n",
    "ss2 = \":WIND:10 m|:.GRD:10 m\" # 10m readings\n",
    "ss3 = \":DSWRF:surface|:DLWRF:surface|:ULWRF:surface|USWRF:surface|:APCP:surface\" # surf readings\n",
    "ll = [(-119.02,37.64),(-119.25,37.91),(-118.73,37.45)] # lat/long order: CUES, Tioga, Rock_Creek\n",
    "\n",
    "for i in range(1): #to get 48hr model data range=(49)\n",
    "    dt = datetime.fromisoformat(start_time_str)\n",
    "    dt_query_str = dt.strftime('%Y-%m-%d %H:%M')\n",
    "    output_timestamp = dt + timedelta(hours=i)\n",
    "    output_timestamp_str = output_timestamp.strftime('%Y-%m-%dT%H:%M')\n",
    "    hours_offset = i\n",
    "    H = Herbie(start_time_str,model=\"hrrr\",fxx=hours_offset,save_dir=\"~/ESAC_herbiedata\")\n",
    "    #print(H.inventory(searchString=\":TMP:2 m|:RH:2 m|:WIND:10 m|:.GRD:10 m|:DSWRF:surface|:DLWRF:surface|:ULWRF:surface|USWRF:surface|:APCP:surface\"))\n",
    "    # not sure about winds\n",
    "    ds1 = H.xarray(ss1, remove_grib=False)\n",
    "    y1=ds1.herbie.nearest_points(points=ll)\n",
    "    print('querying data for: ', dt_query_str, hours_offset, output_timestamp_str)\n",
    "    y1_d = y1.to_dict()\n",
    "    ds2 = H.xarray(ss2, remove_grib=False)\n",
    "    y2=ds2.herbie.nearest_points(points=ll)\n",
    "    print('querying data for: ', dt_query_str, hours_offset, output_timestamp_str)\n",
    "    y2_d = y2.to_dict()\n",
    "    ds3 = H.xarray(ss3, remove_grib=False)\n",
    "    y3_d=ds3.herbie.nearest_points(points=ll)\n",
    "    print('querying data for: ', dt_query_str, hours_offset, output_timestamp_str)\n",
    "    y3_d = y3.to_dict()\n",
    "    append_data(y1_d, y2_d, y3_d, output_timestamp_str)\n",
    "# print(ds)\n",
    "#print(y)"
   ]
  },
  {
   "cell_type": "code",
   "execution_count": 23,
   "id": "d7ec0644",
   "metadata": {},
   "outputs": [
    {
     "name": "stdout",
     "output_type": "stream",
     "text": [
      "done\n"
     ]
    }
   ],
   "source": [
    "def append_data(y1_d, y2_d, output_timestamp_str):\n",
    "    t2m = y1_d['data_vars']['t2m']['data'][data_index]\n",
    "    r2 = y1_d['data_vars']['r2']['data'][data_index]\n",
    "    maxwind10 = y2_d['data_vars']['si10']['data'][data_index]\n",
    "    uwind10 = y2_d['data_vars']['u10']['data'][data_index]\n",
    "    vwind10 = y2_d['data_vars']['v10']['data'][data_index]\n",
    "    wind10 = math.sqrt(uwind10**2 + vwind10**2)\n",
    "    t2m_formatted = round(t2m, 1) #2nd parameter is number of decimals\n",
    "    r2_formatted = round(r2)\n",
    "    maxwind10_formatted = round(maxwind10, 1)\n",
    "    wind10_formatted = round(wind10, 1)\n",
    "    new_line_str = f\"{output_timestamp_str} {t2m_formatted} {r2_formatted} {maxwind10_formatted} {wind10_formatted}\\n\"\n",
    "    with open(file_name, 'r') as f:\n",
    "        lines = f.readlines()\n",
    "        print(type(lines))\n",
    "        print(len(lines))\n",
    "        new_lines = lines\n",
    "        found= False\n",
    "        for idx, line in enumerate(lines):\n",
    "            if line[:16] == output_timestamp_str:\n",
    "                new_lines[idx] = new_line_str\n",
    "                found = True\n",
    "                break\n",
    "        if not found:\n",
    "            new_lines += [new_line_str]\n",
    "    print(len(new_lines))\n",
    "    with open(file_name, 'w') as f:\n",
    "        f.writelines(new_lines)\n",
    "        \n",
    "print(\"done\")"
   ]
  },
  {
   "cell_type": "code",
   "execution_count": 11,
   "id": "d682d3a5",
   "metadata": {},
   "outputs": [
    {
     "name": "stdout",
     "output_type": "stream",
     "text": [
      "✅ Found ┊ model=hrrr ┊ \u001b[3mproduct=sfc\u001b[0m ┊ \u001b[38;2;41;130;13m2023-Nov-06 00:00 UTC\u001b[92m F00\u001b[0m ┊ \u001b[38;2;255;153;0m\u001b[3mGRIB2 @ aws\u001b[0m ┊ \u001b[38;2;255;153;0m\u001b[3mIDX @ aws\u001b[0m\n"
     ]
    },
    {
     "name": "stderr",
     "output_type": "stream",
     "text": [
      "/home/bran/anaconda3/lib/python3.11/site-packages/herbie/accessors.py:260: UserWarning: More than one time coordinate present for variable  \"gribfile_projection\".\n",
      "  ds = ds.metpy.parse_cf()\n",
      "/home/bran/anaconda3/lib/python3.11/site-packages/herbie/accessors.py:264: UserWarning: More than one time coordinate present for variable  \"u10\".\n",
      "  ds = ds.metpy.assign_y_x()\n",
      "/home/bran/anaconda3/lib/python3.11/site-packages/herbie/accessors.py:264: UserWarning: More than one time coordinate present for variable  \"v10\".\n",
      "  ds = ds.metpy.assign_y_x()\n",
      "/home/bran/anaconda3/lib/python3.11/site-packages/herbie/accessors.py:264: UserWarning: More than one time coordinate present for variable  \"si10\".\n",
      "  ds = ds.metpy.assign_y_x()\n",
      "/home/bran/anaconda3/lib/python3.11/site-packages/herbie/accessors.py:264: UserWarning: More than one time coordinate present for variable  \"gribfile_projection\".\n",
      "  ds = ds.metpy.assign_y_x()\n"
     ]
    },
    {
     "name": "stdout",
     "output_type": "stream",
     "text": [
      "<xarray.Dataset>\n",
      "Dimensions:              (point: 3)\n",
      "Coordinates:\n",
      "    time                 datetime64[ns] 2023-11-06\n",
      "    step                 timedelta64[ns] 00:00:00\n",
      "    heightAboveGround    float64 10.0\n",
      "    latitude             (point) float64 37.65 37.91 37.45\n",
      "    longitude            (point) float64 241.0 240.8 241.3\n",
      "    valid_time           datetime64[ns] 2023-11-06\n",
      "    metpy_crs            object Projection: lambert_conformal_conic\n",
      "    y                    (point) float64 1.257e+05 1.587e+05 9.869e+04\n",
      "    x                    (point) float64 -1.879e+06 -1.891e+06 -1.858e+06\n",
      "  * point                (point) int64 0 1 2\n",
      "    point_latitude       (point) float64 37.64 37.91 37.45\n",
      "    point_longitude      (point) float64 -119.0 -119.2 -118.7\n",
      "Data variables:\n",
      "    u10                  (point) float32 7.55 14.05 8.8\n",
      "    v10                  (point) float32 5.7 5.138 2.2\n",
      "    si10                 (point) float32 9.441 14.94 9.066\n",
      "    gribfile_projection  (point) object None None None\n",
      "Attributes:\n",
      "    GRIB_edition:            2\n",
      "    GRIB_centre:             kwbc\n",
      "    GRIB_centreDescription:  US National Weather Service - NCEP\n",
      "    GRIB_subCentre:          0\n",
      "    Conventions:             CF-1.7\n",
      "    institution:             US National Weather Service - NCEP\n",
      "    model:                   hrrr\n",
      "    product:                 sfc\n",
      "    description:             High-Resolution Rapid Refresh - CONUS\n",
      "    remote_grib:             https://noaa-hrrr-bdp-pds.s3.amazonaws.com/hrrr....\n",
      "    local_grib:              /home/bran/ESAC_herbiedata/hrrr/20231106/subset_...\n",
      "    searchString:            :WIND:10 m|:.GRD:10 m\n"
     ]
    }
   ],
   "source": [
    "from herbie import Herbie\n",
    "H = Herbie(start_time_str,model=\"hrrr\",fxx=hours_offset,save_dir=\"~/ESAC_herbiedata\")\n",
    "ds2 = H.xarray(ss2, remove_grib=False)\n",
    "y2=ds2.herbie.nearest_points(points=ll)\n",
    "print(y2)"
   ]
  },
  {
   "cell_type": "code",
   "execution_count": null,
   "id": "e78fe1a8",
   "metadata": {},
   "outputs": [],
   "source": []
  }
 ],
 "metadata": {
  "kernelspec": {
   "display_name": "Python 3 (ipykernel)",
   "language": "python",
   "name": "python3"
  },
  "language_info": {
   "codemirror_mode": {
    "name": "ipython",
    "version": 3
   },
   "file_extension": ".py",
   "mimetype": "text/x-python",
   "name": "python",
   "nbconvert_exporter": "python",
   "pygments_lexer": "ipython3",
   "version": "3.11.5"
  }
 },
 "nbformat": 4,
 "nbformat_minor": 5
}
