{
 "cells": [
  {
   "cell_type": "code",
   "execution_count": null,
   "id": "88f7c7ba",
   "metadata": {},
   "outputs": [
    {
     "name": "stdout",
     "output_type": "stream",
     "text": [
      "✅ Found ┊ model=hrrr ┊ \u001b[3mproduct=sfc\u001b[0m ┊ \u001b[38;2;41;130;13m2023-Oct-15 00:00 UTC\u001b[92m F00\u001b[0m ┊ \u001b[38;2;255;153;0m\u001b[3mGRIB2 @ aws\u001b[0m ┊ \u001b[38;2;255;153;0m\u001b[3mIDX @ aws\u001b[0m\n",
      "👨🏻‍🏭 Created directory: [/home/bran/ESAC_herbiedata/hrrr/20231015]\n"
     ]
    },
    {
     "name": "stderr",
     "output_type": "stream",
     "text": [
      "/home/bran/anaconda3/lib/python3.11/site-packages/herbie/accessors.py:260: UserWarning: More than one time coordinate present for variable  \"gribfile_projection\".\n",
      "  ds = ds.metpy.parse_cf()\n",
      "/home/bran/anaconda3/lib/python3.11/site-packages/herbie/accessors.py:264: UserWarning: More than one time coordinate present for variable  \"t2m\".\n",
      "  ds = ds.metpy.assign_y_x()\n",
      "/home/bran/anaconda3/lib/python3.11/site-packages/herbie/accessors.py:264: UserWarning: More than one time coordinate present for variable  \"r2\".\n",
      "  ds = ds.metpy.assign_y_x()\n",
      "/home/bran/anaconda3/lib/python3.11/site-packages/herbie/accessors.py:264: UserWarning: More than one time coordinate present for variable  \"gribfile_projection\".\n",
      "  ds = ds.metpy.assign_y_x()\n"
     ]
    },
    {
     "name": "stdout",
     "output_type": "stream",
     "text": [
      "querying data for:  2023-10-15 00:00 0 2023-10-15T00:00\n"
     ]
    },
    {
     "name": "stderr",
     "output_type": "stream",
     "text": [
      "/home/bran/anaconda3/lib/python3.11/site-packages/herbie/accessors.py:260: UserWarning: More than one time coordinate present for variable  \"gribfile_projection\".\n",
      "  ds = ds.metpy.parse_cf()\n",
      "/home/bran/anaconda3/lib/python3.11/site-packages/herbie/accessors.py:264: UserWarning: More than one time coordinate present for variable  \"u10\".\n",
      "  ds = ds.metpy.assign_y_x()\n",
      "/home/bran/anaconda3/lib/python3.11/site-packages/herbie/accessors.py:264: UserWarning: More than one time coordinate present for variable  \"v10\".\n",
      "  ds = ds.metpy.assign_y_x()\n",
      "/home/bran/anaconda3/lib/python3.11/site-packages/herbie/accessors.py:264: UserWarning: More than one time coordinate present for variable  \"si10\".\n",
      "  ds = ds.metpy.assign_y_x()\n",
      "/home/bran/anaconda3/lib/python3.11/site-packages/herbie/accessors.py:264: UserWarning: More than one time coordinate present for variable  \"gribfile_projection\".\n",
      "  ds = ds.metpy.assign_y_x()\n"
     ]
    },
    {
     "name": "stdout",
     "output_type": "stream",
     "text": [
      "querying data for:  2023-10-15 00:00 0 2023-10-15T00:00\n"
     ]
    }
   ],
   "source": [
    "from herbie import Herbie\n",
    "from datetime import datetime, timedelta\n",
    "import math\n",
    "    \n",
    "file_name = '/home/bran/SNOWPACK/input/Tioga/Tioga_test.smet'\n",
    "data_index = 1 #index is station lat/long, starts at 0\n",
    "start_time_str = '2023-10-15 00:00:00'\n",
    "ss = \":TMP:2 m|:RH:2 m|:WIND:10 m|:.GRD:10 m|:DSWRF:surface|:DLWRF:surface|:ULWRF:surface|USWRF:surface|:APCP:.*:(?:0-1[1-9]\\d*-\\d+) hour\"\n",
    "ss1 = \":TMP:2 m|:RH:2 m\" # 2m readings\n",
    "ss2 = \":WIND:10 m|:.GRD:10 m\" # 10m readings\n",
    "ss3 = \":DSWRF:surface|:DLWRF:surface|:ULWRF:surface|USWRF:surface\" # surf readings minus precip\n",
    "#ss4 = f\":APCP:surface:{i-1}-{i} h*\" #hourly precip\n",
    "ll = [(-119.02,37.64),(-119.25,37.91),(-118.73,37.45)] # lat/long order: CUES, Tioga, Rock_Creek\n",
    "maxrun = 49 # to get 48hr model: maxrun = 49\n",
    "\n",
    "for i in range(maxrun):\n",
    "    dt = datetime.fromisoformat(start_time_str)\n",
    "    dt_query_str = dt.strftime('%Y-%m-%d %H:%M')\n",
    "    output_timestamp = dt + timedelta(hours=i)\n",
    "    output_timestamp_str = output_timestamp.strftime('%Y-%m-%dT%H:%M')\n",
    "    hours_offset = i\n",
    "    H = Herbie(start_time_str,model=\"hrrr\",fxx=hours_offset,save_dir=\"~/ESAC_herbiedata\")\n",
    "    #print(H.inventory(searchString=\":TMP:2 m|:RH:2 m|:WIND:10 m|:.GRD:10 m|:DSWRF:surface|:DLWRF:surface|:ULWRF:surface|USWRF:surface|:APCP:surface\"))\n",
    "    # not sure about winds\n",
    "    ds1 = H.xarray(ss1, remove_grib=False)\n",
    "    y1=ds1.herbie.nearest_points(points=ll)\n",
    "    print('querying data for: ', dt_query_str, hours_offset, output_timestamp_str)\n",
    "    y1_d = y1.to_dict()\n",
    "    ds2 = H.xarray(ss2, remove_grib=False)\n",
    "    y2=ds2.herbie.nearest_points(points=ll)\n",
    "    print('querying data for: ', dt_query_str, hours_offset, output_timestamp_str)\n",
    "    y2_d = y2.to_dict()\n",
    "    ds3 = H.xarray(ss3, remove_grib=False)\n",
    "    y3=ds3.herbie.nearest_points(points=ll)\n",
    "    print('querying data for: ', dt_query_str, hours_offset, output_timestamp_str)\n",
    "    y3_d = y3.to_dict()\n",
    "    ss4 = f\":APCP:surface:{i-1}-{i} h*\" #hourly precip\n",
    "    if i < 1 :\n",
    "        y4_d = 0.0\n",
    "    else:\n",
    "        ds4 = H.xarray(ss4, remove_grib=False)\n",
    "        y4=ds4.herbie.nearest_points(points=ll)\n",
    "        print('querying data for: ', dt_query_str, hours_offset, output_timestamp_str)\n",
    "        y4_d = y4.to_dict()\n",
    "    append_data(y1_d, y2_d, y3_d, y4_d, output_timestamp_str)\n",
    "# print(ds)\n",
    "#print(y)"
   ]
  },
  {
   "cell_type": "code",
   "execution_count": 17,
   "id": "d7ec0644",
   "metadata": {},
   "outputs": [
    {
     "name": "stdout",
     "output_type": "stream",
     "text": [
      "done\n"
     ]
    }
   ],
   "source": [
    "def append_data(y1_d, y2_d, y3_d, y4_d, output_timestamp_str):\n",
    "    t2m = y1_d['data_vars']['t2m']['data'][data_index]\n",
    "    r2 = y1_d['data_vars']['r2']['data'][data_index]\n",
    "    maxwind10 = y2_d['data_vars']['si10']['data'][data_index]\n",
    "    uwind10 = y2_d['data_vars']['u10']['data'][data_index]\n",
    "    vwind10 = y2_d['data_vars']['v10']['data'][data_index]\n",
    "    wind10 = math.sqrt(uwind10**2 + vwind10**2)\n",
    "    dsw = y3_d['data_vars']['dswrf']['data'][data_index]\n",
    "    dlw = y3_d['data_vars']['dlwrf']['data'][data_index]\n",
    "    ulw = y3_d['data_vars']['ulwrf']['data'][data_index]\n",
    "    usw = y3_d['data_vars']['uswrf']['data'][data_index]\n",
    "    if y4_d == 0.0:\n",
    "        hrprecip = 0.0\n",
    "    else:\n",
    "        hrprecip = y4_d['data_vars']['tp']['data'][data_index]\n",
    "    t2m_formatted = round(t2m, 1) #2nd parameter is number of decimals\n",
    "    r2_formatted = round(r2)\n",
    "    maxwind10_formatted = round(maxwind10, 1)\n",
    "    wind10_formatted = round(wind10, 1)\n",
    "    dsw_formatted = round(dsw)\n",
    "    dlw_formatted = round(dlw)\n",
    "    ulw_formatted = round(ulw)\n",
    "    usw_formatted = round(usw)\n",
    "    hrprecip_formatted = round(hrprecip, 1)\n",
    "    new_line_str = f\"{output_timestamp_str} {t2m_formatted} {r2_formatted} {maxwind10_formatted} {wind10_formatted} {dsw_formatted} {dlw_formatted} {ulw_formatted} {usw_formatted} {hrprecip_formatted} 0.0\\n\"\n",
    "    with open(file_name, 'r') as f:\n",
    "        lines = f.readlines()\n",
    "        print(type(lines))\n",
    "        print(len(lines))\n",
    "        new_lines = lines\n",
    "        found= False\n",
    "        for idx, line in enumerate(lines):\n",
    "            if line[:16] == output_timestamp_str:\n",
    "                new_lines[idx] = new_line_str\n",
    "                found = True\n",
    "                break\n",
    "        if not found:\n",
    "            new_lines += [new_line_str]\n",
    "    print(len(new_lines))\n",
    "    with open(file_name, 'w') as f:\n",
    "        f.writelines(new_lines)\n",
    "        \n",
    "print(\"done\")"
   ]
  },
  {
   "cell_type": "code",
   "execution_count": 46,
   "id": "d682d3a5",
   "metadata": {},
   "outputs": [
    {
     "name": "stdout",
     "output_type": "stream",
     "text": [
      "<xarray.Dataset>\n",
      "Dimensions:              (point: 3)\n",
      "Coordinates:\n",
      "    time                 datetime64[ns] 2023-11-06\n",
      "    step                 timedelta64[ns] 03:00:00\n",
      "    surface              float64 0.0\n",
      "    latitude             (point) float64 37.65 37.91 37.45\n",
      "    longitude            (point) float64 241.0 240.8 241.3\n",
      "    valid_time           datetime64[ns] 2023-11-06T03:00:00\n",
      "    metpy_crs            object Projection: lambert_conformal_conic\n",
      "    y                    (point) float64 1.257e+05 1.587e+05 9.869e+04\n",
      "    x                    (point) float64 -1.879e+06 -1.891e+06 -1.858e+06\n",
      "  * point                (point) int64 0 1 2\n",
      "    point_latitude       (point) float64 37.64 37.91 37.45\n",
      "    point_longitude      (point) float64 -119.0 -119.2 -118.7\n",
      "Data variables:\n",
      "    dswrf                (point) float32 0.0 0.0 0.0\n",
      "    uswrf                (point) float32 0.0 0.0 0.0\n",
      "    dlwrf                (point) float32 220.8 312.3 214.8\n",
      "    ulwrf                (point) float32 295.1 289.6 294.1\n",
      "    gribfile_projection  (point) object None None None\n",
      "Attributes:\n",
      "    GRIB_edition:            2\n",
      "    GRIB_centre:             kwbc\n",
      "    GRIB_centreDescription:  US National Weather Service - NCEP\n",
      "    GRIB_subCentre:          0\n",
      "    Conventions:             CF-1.7\n",
      "    institution:             US National Weather Service - NCEP\n",
      "    model:                   hrrr\n",
      "    product:                 sfc\n",
      "    description:             High-Resolution Rapid Refresh - CONUS\n",
      "    remote_grib:             https://noaa-hrrr-bdp-pds.s3.amazonaws.com/hrrr....\n",
      "    local_grib:              /home/bran/ESAC_herbiedata/hrrr/20231106/subset_...\n",
      "    searchString:            :DSWRF:surface|:DLWRF:surface|:ULWRF:surface|USW...\n"
     ]
    }
   ],
   "source": [
    "# from herbie import Herbie\n",
    "# H = Herbie(start_time_str,model=\"hrrr\",fxx=hours_offset,save_dir=\"~/ESAC_herbiedata\")\n",
    "# ds3 = H.xarray(ss3, remove_grib=False)\n",
    "# y3=ds3.herbie.nearest_points(points=ll)\n",
    "print(y3)"
   ]
  },
  {
   "cell_type": "code",
   "execution_count": 5,
   "id": "e78fe1a8",
   "metadata": {},
   "outputs": [
    {
     "name": "stdout",
     "output_type": "stream",
     "text": [
      "<xarray.Dataset>\n",
      "Dimensions:              (y: 1059, x: 1799)\n",
      "Coordinates:\n",
      "    time                 datetime64[ns] 2023-11-06\n",
      "    step                 timedelta64[ns] 00:00:00\n",
      "    surface              float64 0.0\n",
      "    latitude             (y, x) float64 21.14 21.15 21.15 ... 47.86 47.85 47.84\n",
      "    longitude            (y, x) float64 237.3 237.3 237.3 ... 299.0 299.0 299.1\n",
      "    valid_time           datetime64[ns] 2023-11-06\n",
      "Dimensions without coordinates: y, x\n",
      "Data variables:\n",
      "    tp                   (y, x) float32 ...\n",
      "    dswrf                (y, x) float32 ...\n",
      "    uswrf                (y, x) float32 ...\n",
      "    dlwrf                (y, x) float32 ...\n",
      "    ulwrf                (y, x) float32 ...\n",
      "    gribfile_projection  object None\n",
      "Attributes:\n",
      "    GRIB_edition:            2\n",
      "    GRIB_centre:             kwbc\n",
      "    GRIB_centreDescription:  US National Weather Service - NCEP\n",
      "    GRIB_subCentre:          0\n",
      "    Conventions:             CF-1.7\n",
      "    institution:             US National Weather Service - NCEP\n",
      "    model:                   hrrr\n",
      "    product:                 sfc\n",
      "    description:             High-Resolution Rapid Refresh - CONUS\n",
      "    remote_grib:             https://noaa-hrrr-bdp-pds.s3.amazonaws.com/hrrr....\n",
      "    local_grib:              /home/bran/ESAC_herbiedata/hrrr/20231106/subset_...\n",
      "    searchString:            :DSWRF:surface|:DLWRF:surface|:ULWRF:surface|USW...\n"
     ]
    }
   ],
   "source": [
    "print(ds3)"
   ]
  },
  {
   "cell_type": "code",
   "execution_count": null,
   "id": "a1623cfe",
   "metadata": {},
   "outputs": [],
   "source": []
  },
  {
   "cell_type": "code",
   "execution_count": 10,
   "id": "27146ff1",
   "metadata": {},
   "outputs": [
    {
     "name": "stdout",
     "output_type": "stream",
     "text": [
      "    grib_message  start_byte  end_byte              range      reference_time  \\\n",
      "76            77    53354820  55736435  53354820-55736435 2023-11-06 12:00:00   \n",
      "77            78    55736435  58118050  55736435-58118050 2023-11-06 12:00:00   \n",
      "78            79    58118050  59292556  58118050-59292556 2023-11-06 12:00:00   \n",
      "\n",
      "            valid_time variable              level      forecast_time  \\\n",
      "76 2023-11-06 18:00:00     UGRD  10 m above ground        6 hour fcst   \n",
      "77 2023-11-06 18:00:00     VGRD  10 m above ground        6 hour fcst   \n",
      "78 2023-11-06 18:00:00     WIND  10 m above ground  5-6 hour max fcst   \n",
      "\n",
      "                                  search_this  \n",
      "76        :UGRD:10 m above ground:6 hour fcst  \n",
      "77        :VGRD:10 m above ground:6 hour fcst  \n",
      "78  :WIND:10 m above ground:5-6 hour max fcst  \n"
     ]
    }
   ],
   "source": [
    "hm2 = H.inventory(searchString=ss2)\n",
    "print(hm2)"
   ]
  },
  {
   "cell_type": "code",
   "execution_count": 11,
   "id": "b934a82c",
   "metadata": {},
   "outputs": [
    {
     "name": "stdout",
     "output_type": "stream",
     "text": [
      "     grib_message  start_byte   end_byte                range  \\\n",
      "83             84    62071259   62732295    62071259-62732295   \n",
      "89             90    63198766   63633221    63198766-63633221   \n",
      "125           126    95564701   98112864    95564701-98112864   \n",
      "126           127    98112864  100171653   98112864-100171653   \n",
      "127           128   100171653  102207962  100171653-102207962   \n",
      "128           129   102207962  103861700  102207962-103861700   \n",
      "\n",
      "         reference_time          valid_time variable    level  \\\n",
      "83  2023-11-06 12:00:00 2023-11-06 18:00:00     APCP  surface   \n",
      "89  2023-11-06 12:00:00 2023-11-06 18:00:00     APCP  surface   \n",
      "125 2023-11-06 12:00:00 2023-11-06 18:00:00    DSWRF  surface   \n",
      "126 2023-11-06 12:00:00 2023-11-06 18:00:00    DLWRF  surface   \n",
      "127 2023-11-06 12:00:00 2023-11-06 18:00:00    USWRF  surface   \n",
      "128 2023-11-06 12:00:00 2023-11-06 18:00:00    ULWRF  surface   \n",
      "\n",
      "         forecast_time                      search_this  \n",
      "83   0-6 hour acc fcst  :APCP:surface:0-6 hour acc fcst  \n",
      "89   5-6 hour acc fcst  :APCP:surface:5-6 hour acc fcst  \n",
      "125        6 hour fcst       :DSWRF:surface:6 hour fcst  \n",
      "126        6 hour fcst       :DLWRF:surface:6 hour fcst  \n",
      "127        6 hour fcst       :USWRF:surface:6 hour fcst  \n",
      "128        6 hour fcst       :ULWRF:surface:6 hour fcst  \n"
     ]
    }
   ],
   "source": [
    "hm3 = H.inventory(searchString=ss3)\n",
    "print(hm3)"
   ]
  },
  {
   "cell_type": "code",
   "execution_count": 4,
   "id": "f4a57b0c",
   "metadata": {},
   "outputs": [
    {
     "name": "stdout",
     "output_type": "stream",
     "text": [
      "✅ Found ┊ model=hrrr ┊ \u001b[3mproduct=sfc\u001b[0m ┊ \u001b[38;2;41;130;13m2023-Nov-07 00:00 UTC\u001b[92m F00\u001b[0m ┊ \u001b[38;2;255;153;0m\u001b[3mGRIB2 @ aws\u001b[0m ┊ \u001b[38;2;255;153;0m\u001b[3mIDX @ aws\u001b[0m\n",
      "No hourly precip\n",
      "✅ Found ┊ model=hrrr ┊ \u001b[3mproduct=sfc\u001b[0m ┊ \u001b[38;2;41;130;13m2023-Nov-07 00:00 UTC\u001b[92m F01\u001b[0m ┊ \u001b[38;2;255;153;0m\u001b[3mGRIB2 @ aws\u001b[0m ┊ \u001b[38;2;255;153;0m\u001b[3mIDX @ aws\u001b[0m\n"
     ]
    },
    {
     "name": "stderr",
     "output_type": "stream",
     "text": [
      "/home/bran/anaconda3/lib/python3.11/site-packages/herbie/accessors.py:260: UserWarning: More than one time coordinate present for variable  \"gribfile_projection\".\n",
      "  ds = ds.metpy.parse_cf()\n",
      "/home/bran/anaconda3/lib/python3.11/site-packages/herbie/accessors.py:264: UserWarning: More than one time coordinate present for variable  \"tp\".\n",
      "  ds = ds.metpy.assign_y_x()\n",
      "/home/bran/anaconda3/lib/python3.11/site-packages/herbie/accessors.py:264: UserWarning: More than one time coordinate present for variable  \"gribfile_projection\".\n",
      "  ds = ds.metpy.assign_y_x()\n"
     ]
    },
    {
     "name": "stdout",
     "output_type": "stream",
     "text": [
      "<xarray.Dataset>\n",
      "Dimensions:              (point: 3)\n",
      "Coordinates:\n",
      "    time                 datetime64[ns] 2023-11-07\n",
      "    step                 timedelta64[ns] 01:00:00\n",
      "    surface              float64 0.0\n",
      "    latitude             (point) float64 37.65 37.91 37.45\n",
      "    longitude            (point) float64 241.0 240.8 241.3\n",
      "    valid_time           datetime64[ns] 2023-11-07T01:00:00\n",
      "    metpy_crs            object Projection: lambert_conformal_conic\n",
      "    y                    (point) float64 1.257e+05 1.587e+05 9.869e+04\n",
      "    x                    (point) float64 -1.879e+06 -1.891e+06 -1.858e+06\n",
      "  * point                (point) int64 0 1 2\n",
      "    point_latitude       (point) float64 37.64 37.91 37.45\n",
      "    point_longitude      (point) float64 -119.0 -119.2 -118.7\n",
      "Data variables:\n",
      "    tp                   (point) float32 0.0 0.586 0.0\n",
      "    gribfile_projection  (point) object None None None\n",
      "Attributes:\n",
      "    GRIB_edition:            2\n",
      "    GRIB_centre:             kwbc\n",
      "    GRIB_centreDescription:  US National Weather Service - NCEP\n",
      "    GRIB_subCentre:          0\n",
      "    Conventions:             CF-1.7\n",
      "    institution:             US National Weather Service - NCEP\n",
      "    model:                   hrrr\n",
      "    product:                 sfc\n",
      "    description:             High-Resolution Rapid Refresh - CONUS\n",
      "    remote_grib:             https://noaa-hrrr-bdp-pds.s3.amazonaws.com/hrrr....\n",
      "    local_grib:              /home/bran/ESAC_herbiedata/hrrr/20231107/subset_...\n",
      "    searchString:            :APCP:surface:0-1 h*\n",
      "✅ Found ┊ model=hrrr ┊ \u001b[3mproduct=sfc\u001b[0m ┊ \u001b[38;2;41;130;13m2023-Nov-07 00:00 UTC\u001b[92m F02\u001b[0m ┊ \u001b[38;2;255;153;0m\u001b[3mGRIB2 @ aws\u001b[0m ┊ \u001b[38;2;255;153;0m\u001b[3mIDX @ aws\u001b[0m\n"
     ]
    },
    {
     "name": "stderr",
     "output_type": "stream",
     "text": [
      "/home/bran/anaconda3/lib/python3.11/site-packages/herbie/accessors.py:260: UserWarning: More than one time coordinate present for variable  \"gribfile_projection\".\n",
      "  ds = ds.metpy.parse_cf()\n",
      "/home/bran/anaconda3/lib/python3.11/site-packages/herbie/accessors.py:264: UserWarning: More than one time coordinate present for variable  \"tp\".\n",
      "  ds = ds.metpy.assign_y_x()\n",
      "/home/bran/anaconda3/lib/python3.11/site-packages/herbie/accessors.py:264: UserWarning: More than one time coordinate present for variable  \"gribfile_projection\".\n",
      "  ds = ds.metpy.assign_y_x()\n"
     ]
    },
    {
     "name": "stdout",
     "output_type": "stream",
     "text": [
      "<xarray.Dataset>\n",
      "Dimensions:              (point: 3)\n",
      "Coordinates:\n",
      "    time                 datetime64[ns] 2023-11-07\n",
      "    step                 timedelta64[ns] 02:00:00\n",
      "    surface              float64 0.0\n",
      "    latitude             (point) float64 37.65 37.91 37.45\n",
      "    longitude            (point) float64 241.0 240.8 241.3\n",
      "    valid_time           datetime64[ns] 2023-11-07T02:00:00\n",
      "    metpy_crs            object Projection: lambert_conformal_conic\n",
      "    y                    (point) float64 1.257e+05 1.587e+05 9.869e+04\n",
      "    x                    (point) float64 -1.879e+06 -1.891e+06 -1.858e+06\n",
      "  * point                (point) int64 0 1 2\n",
      "    point_latitude       (point) float64 37.64 37.91 37.45\n",
      "    point_longitude      (point) float64 -119.0 -119.2 -118.7\n",
      "Data variables:\n",
      "    tp                   (point) float32 0.045 0.09 0.0\n",
      "    gribfile_projection  (point) object None None None\n",
      "Attributes:\n",
      "    GRIB_edition:            2\n",
      "    GRIB_centre:             kwbc\n",
      "    GRIB_centreDescription:  US National Weather Service - NCEP\n",
      "    GRIB_subCentre:          0\n",
      "    Conventions:             CF-1.7\n",
      "    institution:             US National Weather Service - NCEP\n",
      "    model:                   hrrr\n",
      "    product:                 sfc\n",
      "    description:             High-Resolution Rapid Refresh - CONUS\n",
      "    remote_grib:             https://noaa-hrrr-bdp-pds.s3.amazonaws.com/hrrr....\n",
      "    local_grib:              /home/bran/ESAC_herbiedata/hrrr/20231107/subset_...\n",
      "    searchString:            :APCP:surface:1-2 h*\n",
      "✅ Found ┊ model=hrrr ┊ \u001b[3mproduct=sfc\u001b[0m ┊ \u001b[38;2;41;130;13m2023-Nov-07 00:00 UTC\u001b[92m F03\u001b[0m ┊ \u001b[38;2;255;153;0m\u001b[3mGRIB2 @ aws\u001b[0m ┊ \u001b[38;2;255;153;0m\u001b[3mIDX @ aws\u001b[0m\n"
     ]
    },
    {
     "name": "stderr",
     "output_type": "stream",
     "text": [
      "/home/bran/anaconda3/lib/python3.11/site-packages/herbie/accessors.py:260: UserWarning: More than one time coordinate present for variable  \"gribfile_projection\".\n",
      "  ds = ds.metpy.parse_cf()\n",
      "/home/bran/anaconda3/lib/python3.11/site-packages/herbie/accessors.py:264: UserWarning: More than one time coordinate present for variable  \"tp\".\n",
      "  ds = ds.metpy.assign_y_x()\n",
      "/home/bran/anaconda3/lib/python3.11/site-packages/herbie/accessors.py:264: UserWarning: More than one time coordinate present for variable  \"gribfile_projection\".\n",
      "  ds = ds.metpy.assign_y_x()\n"
     ]
    },
    {
     "name": "stdout",
     "output_type": "stream",
     "text": [
      "<xarray.Dataset>\n",
      "Dimensions:              (point: 3)\n",
      "Coordinates:\n",
      "    time                 datetime64[ns] 2023-11-07\n",
      "    step                 timedelta64[ns] 03:00:00\n",
      "    surface              float64 0.0\n",
      "    latitude             (point) float64 37.65 37.91 37.45\n",
      "    longitude            (point) float64 241.0 240.8 241.3\n",
      "    valid_time           datetime64[ns] 2023-11-07T03:00:00\n",
      "    metpy_crs            object Projection: lambert_conformal_conic\n",
      "    y                    (point) float64 1.257e+05 1.587e+05 9.869e+04\n",
      "    x                    (point) float64 -1.879e+06 -1.891e+06 -1.858e+06\n",
      "  * point                (point) int64 0 1 2\n",
      "    point_latitude       (point) float64 37.64 37.91 37.45\n",
      "    point_longitude      (point) float64 -119.0 -119.2 -118.7\n",
      "Data variables:\n",
      "    tp                   (point) float32 0.011 0.005 0.0\n",
      "    gribfile_projection  (point) object None None None\n",
      "Attributes:\n",
      "    GRIB_edition:            2\n",
      "    GRIB_centre:             kwbc\n",
      "    GRIB_centreDescription:  US National Weather Service - NCEP\n",
      "    GRIB_subCentre:          0\n",
      "    Conventions:             CF-1.7\n",
      "    institution:             US National Weather Service - NCEP\n",
      "    model:                   hrrr\n",
      "    product:                 sfc\n",
      "    description:             High-Resolution Rapid Refresh - CONUS\n",
      "    remote_grib:             https://noaa-hrrr-bdp-pds.s3.amazonaws.com/hrrr....\n",
      "    local_grib:              /home/bran/ESAC_herbiedata/hrrr/20231107/subset_...\n",
      "    searchString:            :APCP:surface:2-3 h*\n",
      "✅ Found ┊ model=hrrr ┊ \u001b[3mproduct=sfc\u001b[0m ┊ \u001b[38;2;41;130;13m2023-Nov-07 00:00 UTC\u001b[92m F04\u001b[0m ┊ \u001b[38;2;255;153;0m\u001b[3mGRIB2 @ aws\u001b[0m ┊ \u001b[38;2;255;153;0m\u001b[3mIDX @ aws\u001b[0m\n"
     ]
    },
    {
     "name": "stderr",
     "output_type": "stream",
     "text": [
      "/home/bran/anaconda3/lib/python3.11/site-packages/herbie/accessors.py:260: UserWarning: More than one time coordinate present for variable  \"gribfile_projection\".\n",
      "  ds = ds.metpy.parse_cf()\n",
      "/home/bran/anaconda3/lib/python3.11/site-packages/herbie/accessors.py:264: UserWarning: More than one time coordinate present for variable  \"tp\".\n",
      "  ds = ds.metpy.assign_y_x()\n",
      "/home/bran/anaconda3/lib/python3.11/site-packages/herbie/accessors.py:264: UserWarning: More than one time coordinate present for variable  \"gribfile_projection\".\n",
      "  ds = ds.metpy.assign_y_x()\n"
     ]
    },
    {
     "name": "stdout",
     "output_type": "stream",
     "text": [
      "<xarray.Dataset>\n",
      "Dimensions:              (point: 3)\n",
      "Coordinates:\n",
      "    time                 datetime64[ns] 2023-11-07\n",
      "    step                 timedelta64[ns] 04:00:00\n",
      "    surface              float64 0.0\n",
      "    latitude             (point) float64 37.65 37.91 37.45\n",
      "    longitude            (point) float64 241.0 240.8 241.3\n",
      "    valid_time           datetime64[ns] 2023-11-07T04:00:00\n",
      "    metpy_crs            object Projection: lambert_conformal_conic\n",
      "    y                    (point) float64 1.257e+05 1.587e+05 9.869e+04\n",
      "    x                    (point) float64 -1.879e+06 -1.891e+06 -1.858e+06\n",
      "  * point                (point) int64 0 1 2\n",
      "    point_latitude       (point) float64 37.64 37.91 37.45\n",
      "    point_longitude      (point) float64 -119.0 -119.2 -118.7\n",
      "Data variables:\n",
      "    tp                   (point) float32 0.361 0.214 0.0\n",
      "    gribfile_projection  (point) object None None None\n",
      "Attributes:\n",
      "    GRIB_edition:            2\n",
      "    GRIB_centre:             kwbc\n",
      "    GRIB_centreDescription:  US National Weather Service - NCEP\n",
      "    GRIB_subCentre:          0\n",
      "    Conventions:             CF-1.7\n",
      "    institution:             US National Weather Service - NCEP\n",
      "    model:                   hrrr\n",
      "    product:                 sfc\n",
      "    description:             High-Resolution Rapid Refresh - CONUS\n",
      "    remote_grib:             https://noaa-hrrr-bdp-pds.s3.amazonaws.com/hrrr....\n",
      "    local_grib:              /home/bran/ESAC_herbiedata/hrrr/20231107/subset_...\n",
      "    searchString:            :APCP:surface:3-4 h*\n"
     ]
    }
   ],
   "source": [
    "#not yet working trying to find hourly precip\n",
    "maxrun = 5\n",
    "\n",
    "for i in range(maxrun):  # to get 48hr model: range(49)\n",
    "    hours_offset = i\n",
    "    H = Herbie(start_time_str,model=\"hrrr\",fxx=hours_offset,save_dir=\"~/ESAC_herbiedata\")\n",
    "    hrp = [f\":APCP:surface:{hours_offset-1}-{hours_offset} h*\"]\n",
    "    ssfafo = f\":APCP:surface:{hours_offset-1}-{hours_offset} h*\"\n",
    "    if i < 1 :\n",
    "        print(\"No hourly precip\")\n",
    "    else:\n",
    "        dsfafo = H.xarray(ssfafo, remove_grib=False)\n",
    "        yfafo=dsfafo.herbie.nearest_points(points=ll)\n",
    "        print(yfafo)"
   ]
  },
  {
   "cell_type": "code",
   "execution_count": null,
   "id": "8d0c5558",
   "metadata": {},
   "outputs": [],
   "source": []
  },
  {
   "cell_type": "code",
   "execution_count": null,
   "id": "4f3f1bcb",
   "metadata": {},
   "outputs": [],
   "source": []
  }
 ],
 "metadata": {
  "kernelspec": {
   "display_name": "Python 3 (ipykernel)",
   "language": "python",
   "name": "python3"
  },
  "language_info": {
   "codemirror_mode": {
    "name": "ipython",
    "version": 3
   },
   "file_extension": ".py",
   "mimetype": "text/x-python",
   "name": "python",
   "nbconvert_exporter": "python",
   "pygments_lexer": "ipython3",
   "version": "3.11.5"
  }
 },
 "nbformat": 4,
 "nbformat_minor": 5
}
