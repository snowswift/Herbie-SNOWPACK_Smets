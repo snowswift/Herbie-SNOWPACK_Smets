{
 "cells": [
  {
   "cell_type": "code",
   "execution_count": 57,
   "id": "88f7c7ba",
   "metadata": {},
   "outputs": [
    {
     "name": "stdout",
     "output_type": "stream",
     "text": [
      "✅ Found ┊ model=hrrr ┊ \u001b[3mproduct=sfc\u001b[0m ┊ \u001b[38;2;41;130;13m2023-Nov-06 12:00 UTC\u001b[92m F00\u001b[0m ┊ \u001b[38;2;255;153;0m\u001b[3mGRIB2 @ aws\u001b[0m ┊ \u001b[38;2;255;153;0m\u001b[3mIDX @ aws\u001b[0m\n"
     ]
    },
    {
     "name": "stderr",
     "output_type": "stream",
     "text": [
      "/home/bran/anaconda3/lib/python3.11/site-packages/herbie/accessors.py:260: UserWarning: More than one time coordinate present for variable  \"gribfile_projection\".\n",
      "  ds = ds.metpy.parse_cf()\n",
      "/home/bran/anaconda3/lib/python3.11/site-packages/herbie/accessors.py:264: UserWarning: More than one time coordinate present for variable  \"t2m\".\n",
      "  ds = ds.metpy.assign_y_x()\n",
      "/home/bran/anaconda3/lib/python3.11/site-packages/herbie/accessors.py:264: UserWarning: More than one time coordinate present for variable  \"r2\".\n",
      "  ds = ds.metpy.assign_y_x()\n",
      "/home/bran/anaconda3/lib/python3.11/site-packages/herbie/accessors.py:264: UserWarning: More than one time coordinate present for variable  \"gribfile_projection\".\n",
      "  ds = ds.metpy.assign_y_x()\n"
     ]
    },
    {
     "name": "stdout",
     "output_type": "stream",
     "text": [
      "querying data for:  2023-11-06 12:00 0 2023-11-06T12:00\n",
      "<class 'list'>\n",
      "31\n",
      "31\n"
     ]
    }
   ],
   "source": [
    "from herbie import Herbie\n",
    "from datetime import datetime, timedelta\n",
    "    \n",
    "file_name = '/home/bran/SNOWPACK/input/Tioga/Tioga_test.smet'\n",
    "data_index = 1 #index starts at 0\n",
    "start_time_str = '2023-11-06 12:00:00'\n",
    "\n",
    "for i in range(1):\n",
    "    dt = datetime.fromisoformat(start_time_str)\n",
    "    dt_query_str = dt.strftime('%Y-%m-%d %H:%M')\n",
    "    output_timestamp = dt + timedelta(hours=i)\n",
    "    output_timestamp_str = output_timestamp.strftime('%Y-%m-%dT%H:%M')\n",
    "    hours_offset = i\n",
    "    H = Herbie(\"2023-11-06 12:00\",model=\"hrrr\",fxx=hours_offset,save_dir=\"~/ESAC_herbiedata\")\n",
    "    ss = \":TMP:2 m|:RH:2 m|:WIND:10 m|:.GRD:10 m|:DSWRF:surface|:DLWRF:surface|:ULWRF:surface|USWRF:surface|:APCP:surface\"\n",
    "    ss1 = \":TMP:2 m|:RH:2 m\" # 2m readings\n",
    "    ss2 = \":WIND:10 m|:.GRD:10 m\" # 10m readings\n",
    "    ss3 = \":DSWRF:surface|:DLWRF:surface|:ULWRF:surface|USWRF:surface|:APCP:surface\" # surf readings\n",
    "    #print(H.inventory(searchString=\":TMP:2 m|:RH:2 m|:WIND:10 m|:.GRD:10 m|:DSWRF:surface|:DLWRF:surface|:ULWRF:surface|USWRF:surface|:APCP:surface\"))\n",
    "    # not sure about winds\n",
    "    ds = H.xarray(ss1, remove_grib=False)\n",
    "    ll = [(-119.02,37.64),(-119.25,37.91),(-118.73,37.45)]\n",
    "    y=ds.herbie.nearest_points(points=ll)\n",
    "    print('querying data for: ', dt_str, hours_offset, output_timestamp_str)\n",
    "    y_d = y.to_dict()\n",
    "    append_data(y_d, output_timestamp_str)\n",
    "# pri#nt(ds)\n",
    "#print(y)"
   ]
  },
  {
   "cell_type": "code",
   "execution_count": 54,
   "id": "d7ec0644",
   "metadata": {},
   "outputs": [],
   "source": [
    "def append_data(y_d, output_timestamp_str):\n",
    "    t2m = y_d['data_vars']['t2m']['data'][data_index]\n",
    "    r2 = y_d['data_vars']['r2']['data'][data_index]\n",
    "    t2m_formatted = round(t2m, 1) #2nd parameter is number of decimals\n",
    "    r2_formatted = round(r2, 1)\n",
    "    new_line_str = f\"{output_timestamp_str} {t2m_formatted} {r2_formatted}\\n\"\n",
    "    with open(file_name, 'r') as f:\n",
    "        lines = f.readlines()\n",
    "        print(type(lines))\n",
    "        print(len(lines))\n",
    "        new_lines = lines\n",
    "        found= False\n",
    "        for idx, line in enumerate(lines):\n",
    "            if line[:16] == output_timestamp_str:\n",
    "                new_lines[idx] = new_line_str\n",
    "                found = True\n",
    "                break\n",
    "        if not found:\n",
    "            new_lines += [new_line_str]\n",
    "    print(len(new_lines))\n",
    "    with open(file_name, 'w') as f:\n",
    "        f.writelines(new_lines)"
   ]
  },
  {
   "cell_type": "code",
   "execution_count": 20,
   "id": "d682d3a5",
   "metadata": {},
   "outputs": [
    {
     "data": {
      "text/plain": [
       "<_io.TextIOWrapper name='/home/bran/SNOWPACK/input/Tioga/Tioga_test.smet' mode='r' encoding='UTF-8'>"
      ]
     },
     "execution_count": 20,
     "metadata": {},
     "output_type": "execute_result"
    }
   ],
   "source": []
  }
 ],
 "metadata": {
  "kernelspec": {
   "display_name": "Python 3 (ipykernel)",
   "language": "python",
   "name": "python3"
  },
  "language_info": {
   "codemirror_mode": {
    "name": "ipython",
    "version": 3
   },
   "file_extension": ".py",
   "mimetype": "text/x-python",
   "name": "python",
   "nbconvert_exporter": "python",
   "pygments_lexer": "ipython3",
   "version": "3.11.5"
  }
 },
 "nbformat": 4,
 "nbformat_minor": 5
}
